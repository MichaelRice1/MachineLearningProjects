{
 "cells": [
  {
   "cell_type": "code",
   "execution_count": 1,
   "metadata": {},
   "outputs": [],
   "source": [
    "import os \n",
    "import pandas as pd\n",
    "from bs4 import BeautifulSoup\n",
    "import tqdm\n",
    "\n",
    "\n",
    "SCORES_DIR = \"C:/Users/athen/Desktop/PersonalProjects/Learning/nba_project/data/data_scraping/data/scores\"\n",
    "\n",
    "PLAYERS_DIR = \"nba_project/data/data_scraping/data/players\"\n",
    "\n",
    "\n",
    "boxscores = os.listdir(SCORES_DIR)\n",
    "box_scores = [os.path.join(SCORES_DIR, b) for b in boxscores if b.endswith(\".html\")]\n",
    "\n",
    "box_scores = box_scores[int(2*len(box_scores)/10):int(4*len(box_scores)/10)]\n",
    "\n",
    "\n",
    "\n",
    "def parse_html(box_score):\n",
    "    with open(box_score, 'r', encoding='utf-8') as f:\n",
    "        html = f.read()\n",
    "\n",
    "    soup = BeautifulSoup(html, 'html.parser')\n",
    "\n",
    "    [s.decompose() for s in soup.select(\"tr.over_header\")]\n",
    "    [s.decompose() for s in soup.select(\"tr thead\")]\n",
    "\n",
    "    return soup\n",
    "\n",
    "def read_stats(soup,team, stat):\n",
    "\n",
    "    df = pd.read_html(str(soup), attrs={\"id\":f\"box-{team}-game-{stat}\"},index_col=0)[0]\n",
    "    df = df.replace(\"Did Not Play\", float(\"NaN\"))\n",
    "    df = df.replace(\"Did Not Dress\", float(\"NaN\"))\n",
    "\n",
    "\n",
    "    \n",
    "    return df\n",
    "\n",
    "def read_score(soup):\n",
    "    score = pd.read_html(str(soup), attrs={\"id\":\"line_score\"})[0]\n",
    "    cols = list(score.columns)\n",
    "    cols[0] = \"Team\"\n",
    "    cols[-1] = \"Total\"\n",
    "    score.columns = cols\n",
    "\n",
    "    score = score[['Team','Total']]\n",
    "\n",
    "    return score\n",
    "\n",
    "def read_season_info(soup):\n",
    "    nav = soup.select(\"#bottom_nav_container\")[0]\n",
    "    hrefs = [l[\"href\"] for l in nav.find_all(\"a\")]\n",
    "    season_num = os.path.basename(hrefs[1]).split(\"_\")[0]\n",
    "\n",
    "    return season_num\n",
    "\n",
    "\n",
    "def get_player_data(box_scores=box_scores):\n",
    "\n",
    "    performances = []\n",
    "    base_cols = None\n",
    "\n",
    "    for box_score in tqdm.tqdm(box_scores):\n",
    "        soup = parse_html(box_score)\n",
    "        score = read_score(soup)\n",
    "\n",
    "        teams = list(score[\"Team\"])\n",
    "\n",
    "        for team in teams:\n",
    "            basic = read_stats(soup, team, \"basic\")\n",
    "            advanced = read_stats(soup, team, \"advanced\")\n",
    "\n",
    "            player_names = basic.index.tolist()\n",
    "            #get rid of Reserves and Team Totals from basic and advanced stats\n",
    "            player_names = [p for p in player_names if p not in [\"Reserves\",\"Team Totals\"]]\n",
    "\n",
    "            for player in player_names:\n",
    "                basic_stats = basic.loc[player]\n",
    "                advanced_stats = advanced.loc[player]\n",
    "\n",
    "                player_stats_one_game = pd.concat([basic_stats, advanced_stats])\n",
    "\n",
    "                player_stats_one_game[\"player\"] = player\n",
    "                player_stats_one_game[\"season\"] = read_season_info(soup)\n",
    "                player_stats_one_game[\"date\"] = os.path.basename(box_score)[:8]\n",
    "                player_stats_one_game[\"date\"] = pd.to_datetime(player_stats_one_game[\"date\"], format=\"%Y%m%d\")\n",
    "\n",
    "                if team == teams[0]:\n",
    "                    player_stats_one_game[\"home\"] = 0\n",
    "                else:\n",
    "                    player_stats_one_game[\"home\"] = 1\n",
    "\n",
    "                if base_cols is None:\n",
    "                    base_cols = list(player_stats_one_game.index.drop_duplicates(keep='first'))\n",
    "\n",
    "                player_stats_one_game = player_stats_one_game[base_cols]\n",
    "\n",
    "\n",
    "                performances.append(player_stats_one_game)\n",
    "    \n",
    "    all_performances = pd.concat(performances, axis=1).T\n",
    "\n",
    "    return all_performances\n",
    "\n",
    "\n"
   ]
  },
  {
   "cell_type": "code",
   "execution_count": 3,
   "metadata": {},
   "outputs": [
    {
     "name": "stderr",
     "output_type": "stream",
     "text": [
      "100%|██████████| 6372/6372 [3:31:42<00:00,  1.99s/it]  \n"
     ]
    }
   ],
   "source": [
    "#suppress future warnings\n",
    "import warnings\n",
    "warnings.simplefilter(action='ignore', category=FutureWarning)\n",
    "\n",
    "\n",
    "all_performances = get_player_data(box_scores=box_scores)\n",
    "\n"
   ]
  },
  {
   "cell_type": "code",
   "execution_count": 4,
   "metadata": {},
   "outputs": [],
   "source": [
    "directory = \"C:/Users/athen/Desktop/PersonalProjects/Learning/nba_project/data/data_scraping/data/players/\"\n",
    "file_path = os.path.join(directory, \"players3&4.csv\")\n",
    "\n",
    "# Ensure the directory exists\n",
    "os.makedirs(directory, exist_ok=True)\n",
    "\n",
    "# Save the DataFrame to a CSV file\n",
    "all_performances.to_csv(file_path, index=False)\n",
    "\n"
   ]
  },
  {
   "cell_type": "markdown",
   "metadata": {},
   "source": [
    "### Data Cleaning \n"
   ]
  },
  {
   "cell_type": "code",
   "execution_count": 5,
   "metadata": {},
   "outputs": [],
   "source": [
    "csv_file = pd.read_csv(file_path)\n",
    "\n",
    "\n",
    "csv_file = csv_file.replace(\"Did Not Dress\", float(\"NaN\"))\n",
    "csv_file = csv_file.replace(\"Player Suspended\", float(\"NaN\"))\n",
    "csv_file = csv_file.replace(\"Not With Team\", float(\"NaN\"))\n",
    "csv_file = csv_file.replace(\"Player Not With Team\", float(\"NaN\"))\n",
    "csv_file = csv_file.replace(float(\"NaN\"), 0)\n",
    "\n",
    "\n",
    "#save the csv file with NaN values\n",
    "csv_file.to_csv(\"C:/Users/athen/Desktop/PersonalProjects/Learning/nba_project/data/data_scraping/data/players/players3&4.csv\", index=False)\n"
   ]
  },
  {
   "cell_type": "markdown",
   "metadata": {},
   "source": [
    "### Data Saving"
   ]
  },
  {
   "cell_type": "code",
   "execution_count": 7,
   "metadata": {},
   "outputs": [],
   "source": [
    "file_path = \"C:/Users/athen/Desktop/PersonalProjects/Learning/nba_project/data/data_scraping/data/players\"\n",
    "\n",
    "player_files = os.listdir(file_path)\n",
    "\n",
    "#join all the csv files\n",
    "players_file = pd.concat([pd.read_csv(os.path.join(file_path, f)) for f in player_files])\n",
    "\n",
    "players_file = players_file.drop(\"MP.1\", axis=1)\n",
    "\n",
    "players_file.to_csv(\"C:/Users/athen/Desktop/PersonalProjects/Learning/nba_project/data/data_scraping/data/players.csv\", index=False)\n"
   ]
  }
 ],
 "metadata": {
  "kernelspec": {
   "display_name": "venv",
   "language": "python",
   "name": "python3"
  },
  "language_info": {
   "codemirror_mode": {
    "name": "ipython",
    "version": 3
   },
   "file_extension": ".py",
   "mimetype": "text/x-python",
   "name": "python",
   "nbconvert_exporter": "python",
   "pygments_lexer": "ipython3",
   "version": "3.10.0"
  }
 },
 "nbformat": 4,
 "nbformat_minor": 2
}
